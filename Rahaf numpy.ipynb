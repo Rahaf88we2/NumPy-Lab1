{
 "cells": [
  {
   "cell_type": "code",
   "execution_count": 6,
   "id": "41c6ebe3-f967-4a74-b33b-4e209db6fc07",
   "metadata": {},
   "outputs": [
    {
     "name": "stdout",
     "output_type": "stream",
     "text": [
      "[[1. 1. 1. 1. 1.]\n",
      " [1. 1. 1. 1. 1.]\n",
      " [1. 1. 1. 1. 1.]\n",
      " [1. 1. 1. 1. 1.]\n",
      " [1. 1. 1. 1. 1.]]\n"
     ]
    }
   ],
   "source": [
    "import numpy as np\n",
    "#Q1: Create x array with elements equal to 1.\n",
    "x=np.ones ((5,5))\n",
    "print(x)"
   ]
  },
  {
   "cell_type": "code",
   "execution_count": 7,
   "id": "a7e8fe51-a055-4dcc-8928-006cd3e7d316",
   "metadata": {},
   "outputs": [
    {
     "name": "stdout",
     "output_type": "stream",
     "text": [
      "[[0. 0. 0. 0. 0.]\n",
      " [0. 0. 0. 0. 0.]\n",
      " [0. 0. 0. 0. 0.]\n",
      " [0. 0. 0. 0. 0.]\n",
      " [0. 0. 0. 0. 0.]]\n"
     ]
    }
   ],
   "source": [
    "#Q2: Create y array with elements equal to 0.\n",
    "y=np.zeros ((5,5))\n",
    "print(y)"
   ]
  },
  {
   "cell_type": "code",
   "execution_count": 8,
   "id": "da61ae8f-a368-4504-9a95-13d9e1d3f814",
   "metadata": {},
   "outputs": [
    {
     "data": {
      "text/plain": [
       "array([[1., 1., 1., 1., 1.],\n",
       "       [1., 1., 1., 1., 1.],\n",
       "       [1., 1., 1., 1., 1.],\n",
       "       [1., 1., 1., 1., 1.],\n",
       "       [1., 1., 1., 1., 1.]])"
      ]
     },
     "execution_count": 8,
     "metadata": {},
     "output_type": "execute_result"
    }
   ],
   "source": [
    "#Q3: Add x and y arrays.\n",
    "x +y"
   ]
  },
  {
   "cell_type": "code",
   "execution_count": 13,
   "id": "4d4760cf-ff86-4eeb-aa56-48383f3f4d8f",
   "metadata": {},
   "outputs": [
    {
     "name": "stdout",
     "output_type": "stream",
     "text": [
      "type = float64\n",
      "Number of dim = 2\n",
      "Shape = (5, 5)\n",
      "size = 25\n"
     ]
    }
   ],
   "source": [
    "#Q4: Print x array characteristics (e.g: dimension, shape, size, type)\n",
    "print ('type =', x.dtype)\n",
    "print ('Number of dim =', x.ndim)\n",
    "print ('Shape =', x.shape)\n",
    "print ('size =', x.size)"
   ]
  },
  {
   "cell_type": "code",
   "execution_count": 31,
   "id": "d247c666-d378-4af2-9dad-0b42acbb0f2c",
   "metadata": {},
   "outputs": [
    {
     "data": {
      "text/plain": [
       "(3, 2)"
      ]
     },
     "execution_count": 31,
     "metadata": {},
     "output_type": "execute_result"
    }
   ],
   "source": [
    "#Q5 Create a 2D array \"called w\" as the following:\n",
    "w= np.array([[11,12],[13,14,],[15,16]])\n",
    "w.shape"
   ]
  },
  {
   "cell_type": "code",
   "execution_count": 36,
   "id": "315f5733-2046-4654-8892-f1907b73a141",
   "metadata": {},
   "outputs": [
    {
     "data": {
      "text/plain": [
       "array([[1],\n",
       "       [2],\n",
       "       [3]])"
      ]
     },
     "execution_count": 36,
     "metadata": {},
     "output_type": "execute_result"
    }
   ],
   "source": [
    "#Q6: Create z array contains the numbers from 1 to 3\n",
    "z=np.array([[1],[2],[3]])\n",
    "z"
   ]
  },
  {
   "cell_type": "code",
   "execution_count": 35,
   "id": "567fdda8-cf7d-4c2a-914a-695d74200533",
   "metadata": {},
   "outputs": [
    {
     "data": {
      "text/plain": [
       "array([[ 1, 11, 12],\n",
       "       [ 2, 13, 14],\n",
       "       [ 3, 15, 16]])"
      ]
     },
     "execution_count": 35,
     "metadata": {},
     "output_type": "execute_result"
    }
   ],
   "source": [
    "#Q7: Combine the arrays z and w in vertical way then save it in a new variable \"newArray\".\n",
    "newArray=np.hstack((z,w))\n",
    "newArray"
   ]
  },
  {
   "cell_type": "code",
   "execution_count": 38,
   "id": "2711122f-3b72-48de-b04f-fe3d37fbcd94",
   "metadata": {},
   "outputs": [
    {
     "name": "stdout",
     "output_type": "stream",
     "text": [
      "1\n",
      "11\n",
      "12\n",
      "2\n",
      "13\n",
      "14\n",
      "3\n",
      "15\n",
      "16\n"
     ]
    }
   ],
   "source": [
    "#Q8: Print all elements of \"newArray\" using the loop.\n",
    "for row in newArray:\n",
    "    for item in row:\n",
    "        print(item)"
   ]
  },
  {
   "cell_type": "code",
   "execution_count": 40,
   "id": "f59d80a4-1c4c-4ffb-8d0a-599467c53c59",
   "metadata": {},
   "outputs": [
    {
     "data": {
      "text/plain": [
       "array([[ 1,  2,  3],\n",
       "       [11, 13, 15],\n",
       "       [12, 14, 16]])"
      ]
     },
     "execution_count": 40,
     "metadata": {},
     "output_type": "execute_result"
    }
   ],
   "source": [
    "#Q9: Reverse the columns and rows of \"newArray\".\n",
    "newArray.transpose()"
   ]
  },
  {
   "cell_type": "code",
   "execution_count": 43,
   "id": "43a84297-0941-462b-9c25-107b3476c9a0",
   "metadata": {},
   "outputs": [
    {
     "data": {
      "text/plain": [
       "array([[-2,  8,  9],\n",
       "       [-1, 10, 11],\n",
       "       [ 0, 12, 13]])"
      ]
     },
     "execution_count": 43,
     "metadata": {},
     "output_type": "execute_result"
    }
   ],
   "source": [
    "#Q10: Decrement all elements of \"newArray\" with 1.\n",
    "newArray-=1\n",
    "newArray"
   ]
  },
  {
   "cell_type": "code",
   "execution_count": 45,
   "id": "817d90af-0a52-4119-b2b3-af14c0204012",
   "metadata": {},
   "outputs": [
    {
     "data": {
      "text/plain": [
       "13"
      ]
     },
     "execution_count": 45,
     "metadata": {},
     "output_type": "execute_result"
    }
   ],
   "source": [
    "#Q11: Find smallest and biggest values in \"newArray\".\n",
    "newArray.min()\n",
    "newArray.max()"
   ]
  },
  {
   "cell_type": "code",
   "execution_count": 47,
   "id": "fffe17d6-4338-4738-998d-aacb1c15da84",
   "metadata": {},
   "outputs": [
    {
     "data": {
      "text/plain": [
       "array([-2,  8,  9])"
      ]
     },
     "execution_count": 47,
     "metadata": {},
     "output_type": "execute_result"
    }
   ],
   "source": [
    "#Q12 Print the first row of \"newArray\" using indexing.\n",
    "newArray[0]"
   ]
  },
  {
   "cell_type": "code",
   "execution_count": 51,
   "id": "2a4e29ee-1719-40f7-986b-ee96a13b84f1",
   "metadata": {},
   "outputs": [
    {
     "data": {
      "text/plain": [
       "12"
      ]
     },
     "execution_count": 51,
     "metadata": {},
     "output_type": "execute_result"
    }
   ],
   "source": [
    "#Q13: Print the number equals 12 of \"newArray\" using indexing.\n",
    "newArray[2,1]\n"
   ]
  },
  {
   "cell_type": "code",
   "execution_count": 113,
   "id": "24995c14-7c0a-44d8-8994-e166ee016bc8",
   "metadata": {},
   "outputs": [
    {
     "name": "stdout",
     "output_type": "stream",
     "text": [
      "[[0]]\n",
      "[[13]]\n"
     ]
    }
   ],
   "source": [
    "#Q14: Print the numbers equal 0 and 13 of \"newArray\" using Slicing.\n",
    "print(newArray[2:,:1]) \n",
    "print(newArray[2:, 2:3])"
   ]
  },
  {
   "cell_type": "code",
   "execution_count": 115,
   "id": "a67076c9-8b87-4b98-a60e-44f20254fea5",
   "metadata": {},
   "outputs": [
    {
     "data": {
      "text/plain": [
       "array([[-2],\n",
       "       [ 8],\n",
       "       [ 9],\n",
       "       [-1],\n",
       "       [10],\n",
       "       [11],\n",
       "       [ 0],\n",
       "       [12],\n",
       "       [13]])"
      ]
     },
     "execution_count": 115,
     "metadata": {},
     "output_type": "execute_result"
    }
   ],
   "source": [
    "#Q15: Change the shape of \"newArray\" to (9,1).\n",
    "newArray.shape=(9,1)\n",
    "newArray\n"
   ]
  },
  {
   "cell_type": "code",
   "execution_count": 117,
   "id": "54d71734-66b3-4718-aaf2-b9f527fafddb",
   "metadata": {},
   "outputs": [
    {
     "ename": "ValueError",
     "evalue": "cannot reshape array of size 9 into shape (3,2)",
     "output_type": "error",
     "traceback": [
      "\u001b[0;31m---------------------------------------------------------------------------\u001b[0m",
      "\u001b[0;31mValueError\u001b[0m                                Traceback (most recent call last)",
      "\u001b[0;32m/var/folders/n8/r2m8scgs7nz1tssk9k6d_vlh0000gn/T/ipykernel_38445/2287411461.py\u001b[0m in \u001b[0;36m<module>\u001b[0;34m\u001b[0m\n\u001b[1;32m      1\u001b[0m \u001b[0;31m#Q16: Change the shape of \"newArray\" to (3,2).\u001b[0m\u001b[0;34m\u001b[0m\u001b[0;34m\u001b[0m\u001b[0m\n\u001b[0;32m----> 2\u001b[0;31m \u001b[0mnewArray\u001b[0m\u001b[0;34m.\u001b[0m\u001b[0mshape\u001b[0m\u001b[0;34m=\u001b[0m\u001b[0;34m(\u001b[0m\u001b[0;36m3\u001b[0m\u001b[0;34m,\u001b[0m\u001b[0;36m2\u001b[0m\u001b[0;34m)\u001b[0m\u001b[0;34m\u001b[0m\u001b[0;34m\u001b[0m\u001b[0m\n\u001b[0m\u001b[1;32m      3\u001b[0m \u001b[0mnewArray\u001b[0m\u001b[0;34m\u001b[0m\u001b[0;34m\u001b[0m\u001b[0m\n",
      "\u001b[0;31mValueError\u001b[0m: cannot reshape array of size 9 into shape (3,2)"
     ]
    }
   ],
   "source": [
    "#Q16: Change the shape of \"newArray\" to (3,2).\n",
    "newArray.shape=(3,2)\n",
    "newArray\n",
    "\n",
    "#cannot reshape array of size 9 into shape (3,2)"
   ]
  },
  {
   "cell_type": "code",
   "execution_count": null,
   "id": "c5bf746e-c884-454e-896a-56cc8e9a71a6",
   "metadata": {},
   "outputs": [],
   "source": []
  }
 ],
 "metadata": {
  "kernelspec": {
   "display_name": "Python 3 (ipykernel)",
   "language": "python",
   "name": "python3"
  },
  "language_info": {
   "codemirror_mode": {
    "name": "ipython",
    "version": 3
   },
   "file_extension": ".py",
   "mimetype": "text/x-python",
   "name": "python",
   "nbconvert_exporter": "python",
   "pygments_lexer": "ipython3",
   "version": "3.9.13"
  }
 },
 "nbformat": 4,
 "nbformat_minor": 5
}
